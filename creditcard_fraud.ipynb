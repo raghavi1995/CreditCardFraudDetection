{
 "cells": [
  {
   "cell_type": "code",
   "execution_count": 166,
   "metadata": {},
   "outputs": [],
   "source": [
    "# Importing libraries\n",
    "import numpy as np\n",
    "import pandas as pd\n",
    "import matplotlib.pyplot as plt\n",
    "%matplotlib inline\n",
    "import seaborn as sns\n",
    "import scipy as sp\n",
    "from sklearn import preprocessing\n",
    "\n",
    "\n",
    "# Supress Warnings\n",
    "import warnings\n",
    "warnings.filterwarnings('ignore')"
   ]
  },
  {
   "cell_type": "code",
   "execution_count": 197,
   "metadata": {},
   "outputs": [
    {
     "data": {
      "text/html": [
       "<div>\n",
       "<style scoped>\n",
       "    .dataframe tbody tr th:only-of-type {\n",
       "        vertical-align: middle;\n",
       "    }\n",
       "\n",
       "    .dataframe tbody tr th {\n",
       "        vertical-align: top;\n",
       "    }\n",
       "\n",
       "    .dataframe thead th {\n",
       "        text-align: right;\n",
       "    }\n",
       "</style>\n",
       "<table border=\"1\" class=\"dataframe\">\n",
       "  <thead>\n",
       "    <tr style=\"text-align: right;\">\n",
       "      <th></th>\n",
       "      <th>Time</th>\n",
       "      <th>V1</th>\n",
       "      <th>V2</th>\n",
       "      <th>V3</th>\n",
       "      <th>V4</th>\n",
       "      <th>V5</th>\n",
       "      <th>V6</th>\n",
       "      <th>V7</th>\n",
       "      <th>V8</th>\n",
       "      <th>V9</th>\n",
       "      <th>...</th>\n",
       "      <th>V21</th>\n",
       "      <th>V22</th>\n",
       "      <th>V23</th>\n",
       "      <th>V24</th>\n",
       "      <th>V25</th>\n",
       "      <th>V26</th>\n",
       "      <th>V27</th>\n",
       "      <th>V28</th>\n",
       "      <th>Amount</th>\n",
       "      <th>Class</th>\n",
       "    </tr>\n",
       "  </thead>\n",
       "  <tbody>\n",
       "    <tr>\n",
       "      <th>0</th>\n",
       "      <td>0.0</td>\n",
       "      <td>-1.359807</td>\n",
       "      <td>-0.072781</td>\n",
       "      <td>2.536347</td>\n",
       "      <td>1.378155</td>\n",
       "      <td>-0.338321</td>\n",
       "      <td>0.462388</td>\n",
       "      <td>0.239599</td>\n",
       "      <td>0.098698</td>\n",
       "      <td>0.363787</td>\n",
       "      <td>...</td>\n",
       "      <td>-0.018307</td>\n",
       "      <td>0.277838</td>\n",
       "      <td>-0.110474</td>\n",
       "      <td>0.066928</td>\n",
       "      <td>0.128539</td>\n",
       "      <td>-0.189115</td>\n",
       "      <td>0.133558</td>\n",
       "      <td>-0.021053</td>\n",
       "      <td>149.62</td>\n",
       "      <td>0</td>\n",
       "    </tr>\n",
       "    <tr>\n",
       "      <th>1</th>\n",
       "      <td>0.0</td>\n",
       "      <td>1.191857</td>\n",
       "      <td>0.266151</td>\n",
       "      <td>0.166480</td>\n",
       "      <td>0.448154</td>\n",
       "      <td>0.060018</td>\n",
       "      <td>-0.082361</td>\n",
       "      <td>-0.078803</td>\n",
       "      <td>0.085102</td>\n",
       "      <td>-0.255425</td>\n",
       "      <td>...</td>\n",
       "      <td>-0.225775</td>\n",
       "      <td>-0.638672</td>\n",
       "      <td>0.101288</td>\n",
       "      <td>-0.339846</td>\n",
       "      <td>0.167170</td>\n",
       "      <td>0.125895</td>\n",
       "      <td>-0.008983</td>\n",
       "      <td>0.014724</td>\n",
       "      <td>2.69</td>\n",
       "      <td>0</td>\n",
       "    </tr>\n",
       "    <tr>\n",
       "      <th>2</th>\n",
       "      <td>1.0</td>\n",
       "      <td>-1.358354</td>\n",
       "      <td>-1.340163</td>\n",
       "      <td>1.773209</td>\n",
       "      <td>0.379780</td>\n",
       "      <td>-0.503198</td>\n",
       "      <td>1.800499</td>\n",
       "      <td>0.791461</td>\n",
       "      <td>0.247676</td>\n",
       "      <td>-1.514654</td>\n",
       "      <td>...</td>\n",
       "      <td>0.247998</td>\n",
       "      <td>0.771679</td>\n",
       "      <td>0.909412</td>\n",
       "      <td>-0.689281</td>\n",
       "      <td>-0.327642</td>\n",
       "      <td>-0.139097</td>\n",
       "      <td>-0.055353</td>\n",
       "      <td>-0.059752</td>\n",
       "      <td>378.66</td>\n",
       "      <td>0</td>\n",
       "    </tr>\n",
       "    <tr>\n",
       "      <th>3</th>\n",
       "      <td>1.0</td>\n",
       "      <td>-0.966272</td>\n",
       "      <td>-0.185226</td>\n",
       "      <td>1.792993</td>\n",
       "      <td>-0.863291</td>\n",
       "      <td>-0.010309</td>\n",
       "      <td>1.247203</td>\n",
       "      <td>0.237609</td>\n",
       "      <td>0.377436</td>\n",
       "      <td>-1.387024</td>\n",
       "      <td>...</td>\n",
       "      <td>-0.108300</td>\n",
       "      <td>0.005274</td>\n",
       "      <td>-0.190321</td>\n",
       "      <td>-1.175575</td>\n",
       "      <td>0.647376</td>\n",
       "      <td>-0.221929</td>\n",
       "      <td>0.062723</td>\n",
       "      <td>0.061458</td>\n",
       "      <td>123.50</td>\n",
       "      <td>0</td>\n",
       "    </tr>\n",
       "    <tr>\n",
       "      <th>4</th>\n",
       "      <td>2.0</td>\n",
       "      <td>-1.158233</td>\n",
       "      <td>0.877737</td>\n",
       "      <td>1.548718</td>\n",
       "      <td>0.403034</td>\n",
       "      <td>-0.407193</td>\n",
       "      <td>0.095921</td>\n",
       "      <td>0.592941</td>\n",
       "      <td>-0.270533</td>\n",
       "      <td>0.817739</td>\n",
       "      <td>...</td>\n",
       "      <td>-0.009431</td>\n",
       "      <td>0.798278</td>\n",
       "      <td>-0.137458</td>\n",
       "      <td>0.141267</td>\n",
       "      <td>-0.206010</td>\n",
       "      <td>0.502292</td>\n",
       "      <td>0.219422</td>\n",
       "      <td>0.215153</td>\n",
       "      <td>69.99</td>\n",
       "      <td>0</td>\n",
       "    </tr>\n",
       "  </tbody>\n",
       "</table>\n",
       "<p>5 rows × 31 columns</p>\n",
       "</div>"
      ],
      "text/plain": [
       "   Time        V1        V2        V3        V4        V5        V6        V7  \\\n",
       "0   0.0 -1.359807 -0.072781  2.536347  1.378155 -0.338321  0.462388  0.239599   \n",
       "1   0.0  1.191857  0.266151  0.166480  0.448154  0.060018 -0.082361 -0.078803   \n",
       "2   1.0 -1.358354 -1.340163  1.773209  0.379780 -0.503198  1.800499  0.791461   \n",
       "3   1.0 -0.966272 -0.185226  1.792993 -0.863291 -0.010309  1.247203  0.237609   \n",
       "4   2.0 -1.158233  0.877737  1.548718  0.403034 -0.407193  0.095921  0.592941   \n",
       "\n",
       "         V8        V9  ...       V21       V22       V23       V24       V25  \\\n",
       "0  0.098698  0.363787  ... -0.018307  0.277838 -0.110474  0.066928  0.128539   \n",
       "1  0.085102 -0.255425  ... -0.225775 -0.638672  0.101288 -0.339846  0.167170   \n",
       "2  0.247676 -1.514654  ...  0.247998  0.771679  0.909412 -0.689281 -0.327642   \n",
       "3  0.377436 -1.387024  ... -0.108300  0.005274 -0.190321 -1.175575  0.647376   \n",
       "4 -0.270533  0.817739  ... -0.009431  0.798278 -0.137458  0.141267 -0.206010   \n",
       "\n",
       "        V26       V27       V28  Amount  Class  \n",
       "0 -0.189115  0.133558 -0.021053  149.62      0  \n",
       "1  0.125895 -0.008983  0.014724    2.69      0  \n",
       "2 -0.139097 -0.055353 -0.059752  378.66      0  \n",
       "3 -0.221929  0.062723  0.061458  123.50      0  \n",
       "4  0.502292  0.219422  0.215153   69.99      0  \n",
       "\n",
       "[5 rows x 31 columns]"
      ]
     },
     "execution_count": 197,
     "metadata": {},
     "output_type": "execute_result"
    }
   ],
   "source": [
    "# Importing Dataset\n",
    "credit=pd.read_csv(r'C:\\Users\\Raghavi PK\\Desktop\\PGDDS\\capstone project\\creditcard.csv')\n",
    "credit.head()"
   ]
  },
  {
   "cell_type": "markdown",
   "metadata": {},
   "source": [
    "### Checking Class Ratio"
   ]
  },
  {
   "cell_type": "code",
   "execution_count": null,
   "metadata": {},
   "outputs": [],
   "source": [
    "classes=credit['Class'].value_counts()\n",
    "plt.xlabel(\"Class label\")\n",
    "plt.ylabel(\"Number of Occurences\")\n",
    "classes.plot(kind = 'bar',title = 'Class Ratio',rot=0)"
   ]
  },
  {
   "cell_type": "markdown",
   "metadata": {},
   "source": [
    "This is a highly imbalanced dataset. "
   ]
  },
  {
   "cell_type": "markdown",
   "metadata": {},
   "source": [
    "## Exploratory Data Analysis"
   ]
  },
  {
   "cell_type": "code",
   "execution_count": null,
   "metadata": {},
   "outputs": [],
   "source": [
    "credit.describe()"
   ]
  },
  {
   "cell_type": "code",
   "execution_count": null,
   "metadata": {},
   "outputs": [],
   "source": [
    "credit.shape"
   ]
  },
  {
   "cell_type": "markdown",
   "metadata": {},
   "source": [
    "The dataset contains 31 columns which are PCA transformed. 28 vectors are the result of PCA and its Z scaled. Hence further EDA is not necessary. We will check the vectors for the presence of skewness and also, the amount column which consists of transaction amount will be cleaned. Time column does not give much information, so we are going to ignore it."
   ]
  },
  {
   "cell_type": "code",
   "execution_count": null,
   "metadata": {},
   "outputs": [],
   "source": [
    "#Train Test split\n",
    "from sklearn.model_selection import train_test_split\n",
    "y = credit['Class'] \n",
    "X = credit.drop(['Class'], axis=1) \n",
    "X_train, X_test, y_train, y_test = train_test_split(X, y, test_size=0.3, random_state=0,stratify=y)"
   ]
  },
  {
   "cell_type": "markdown",
   "metadata": {},
   "source": [
    "Since data is imbalanced, the train test split is stratified so, the class ratio is considered while splitting the data into train and test sets."
   ]
  },
  {
   "cell_type": "markdown",
   "metadata": {},
   "source": [
    "### Transaction Amount"
   ]
  },
  {
   "cell_type": "code",
   "execution_count": null,
   "metadata": {},
   "outputs": [],
   "source": [
    "X_train['Amount'].describe()"
   ]
  },
  {
   "cell_type": "code",
   "execution_count": null,
   "metadata": {},
   "outputs": [],
   "source": [
    "## Checking if any null values present\n",
    "X_train.isnull().values.any()"
   ]
  },
  {
   "cell_type": "code",
   "execution_count": null,
   "metadata": {},
   "outputs": [],
   "source": [
    "## Checking for the presence of outliers -(histogram and box plot)\n",
    "plt.figure(figsize=(10,4), dpi=80)\n",
    "sns.distplot(credit['Amount'], bins=100, kde=False)\n",
    "plt.ylabel('Count')\n",
    "plt.title('Transaction Amount')\n"
   ]
  },
  {
   "cell_type": "markdown",
   "metadata": {},
   "source": [
    "Data seems to be skewed and outliers are not seen properly.So plotting box plot for it\n"
   ]
  },
  {
   "cell_type": "code",
   "execution_count": null,
   "metadata": {},
   "outputs": [],
   "source": [
    "plt.figure(figsize=(10,4), dpi=80)\n",
    "sns.boxplot(credit['Amount'])\n",
    "plt.title('Transaction Amount')"
   ]
  },
  {
   "cell_type": "markdown",
   "metadata": {},
   "source": [
    "There are no outliers on the left wheras many on right, so the variable is right skewed. So its skewness is checked."
   ]
  },
  {
   "cell_type": "code",
   "execution_count": null,
   "metadata": {},
   "outputs": [],
   "source": [
    "#Skewness\n",
    "X_train['Amount'].skew()"
   ]
  },
  {
   "cell_type": "markdown",
   "metadata": {},
   "source": [
    "Skewness is really high and its reduced using power transformation.\n",
    "Box cox transform worksonly on positive data, since Amount contains negative values, it has to be made positive"
   ]
  },
  {
   "cell_type": "code",
   "execution_count": null,
   "metadata": {},
   "outputs": [],
   "source": [
    "X_train.loc[:,'Amount']= X_train['Amount'] + 1e-9"
   ]
  },
  {
   "cell_type": "code",
   "execution_count": null,
   "metadata": {},
   "outputs": [],
   "source": [
    "## Applying Power transform using box cox transform\n",
    "X_train.loc[:,'Amount'], maxlog, (min_ci, max_ci)=sp.stats.boxcox(X_train['Amount'], alpha=0.01)"
   ]
  },
  {
   "cell_type": "markdown",
   "metadata": {},
   "source": [
    "#### plotting histogram and box-plot again on Transaction amount to check for the skewness present in the data"
   ]
  },
  {
   "cell_type": "code",
   "execution_count": null,
   "metadata": {},
   "outputs": [],
   "source": [
    "plt.figure(figsize=(10,4), dpi=80)\n",
    "sns.distplot(X_train['Amount'], bins=100, kde=False)\n",
    "plt.ylabel('Count')\n",
    "plt.title('Transaction Amount (Power Transformed)')"
   ]
  },
  {
   "cell_type": "code",
   "execution_count": null,
   "metadata": {},
   "outputs": [],
   "source": [
    "plt.figure(figsize=(10,4), dpi=80)\n",
    "sns.boxplot(credit['Amount'])\n",
    "plt.title('Transaction Amount(Power Transformed)')"
   ]
  },
  {
   "cell_type": "code",
   "execution_count": null,
   "metadata": {},
   "outputs": [],
   "source": [
    "X_train['Amount'].skew()"
   ]
  },
  {
   "cell_type": "markdown",
   "metadata": {},
   "source": [
    "Skewness present in the amount column reduced."
   ]
  },
  {
   "cell_type": "code",
   "execution_count": null,
   "metadata": {},
   "outputs": [],
   "source": [
    "## Scaling the amount column.\n",
    "X_train['TransAmnt']=preprocessing.scale(X_train['Amount'])"
   ]
  },
  {
   "cell_type": "code",
   "execution_count": null,
   "metadata": {},
   "outputs": [],
   "source": [
    "X_train.info()"
   ]
  },
  {
   "cell_type": "code",
   "execution_count": null,
   "metadata": {},
   "outputs": [],
   "source": [
    "X_train=X_train.drop('Amount',axis=1)"
   ]
  },
  {
   "cell_type": "code",
   "execution_count": null,
   "metadata": {},
   "outputs": [],
   "source": [
    "X_train.info()"
   ]
  },
  {
   "cell_type": "markdown",
   "metadata": {},
   "source": [
    "Now analysing the 28 vectors"
   ]
  },
  {
   "cell_type": "code",
   "execution_count": null,
   "metadata": {},
   "outputs": [],
   "source": [
    "vectors_PCA = ['V%i' % j for j in range(1,29)]"
   ]
  },
  {
   "cell_type": "code",
   "execution_count": null,
   "metadata": {},
   "outputs": [],
   "source": [
    "X_train[vectors_PCA].describe()"
   ]
  },
  {
   "cell_type": "markdown",
   "metadata": {},
   "source": [
    "PCA transformed variables are normally distributed. They dont have any categorical variables.\n",
    "The vectors are also Z scaled. Skewness is the only factor that needs to be checked."
   ]
  },
  {
   "cell_type": "code",
   "execution_count": null,
   "metadata": {},
   "outputs": [],
   "source": [
    "## Skewness check\n",
    "X_train[vectors_PCA].skew()"
   ]
  },
  {
   "cell_type": "markdown",
   "metadata": {},
   "source": [
    "## Model Building"
   ]
  },
  {
   "cell_type": "code",
   "execution_count": null,
   "metadata": {},
   "outputs": [],
   "source": [
    "## Logistic Regression\n",
    "\n",
    "from sklearn import model_selection\n",
    "from sklearn.linear_model import LogisticRegression\n",
    "from sklearn.model_selection import KFold\n",
    "from sklearn.model_selection import StratifiedKFold\n",
    "from sklearn.model_selection import cross_val_predict"
   ]
  },
  {
   "cell_type": "code",
   "execution_count": null,
   "metadata": {},
   "outputs": [],
   "source": [
    "skfold = StratifiedKFold(n_splits=3, random_state=100)\n",
    "model_skfold = LogisticRegression()\n",
    "results_skfold = cross_val_predict(model_skfold, X_train, y_train, cv=skfold,n_jobs=-1)\n"
   ]
  },
  {
   "cell_type": "code",
   "execution_count": null,
   "metadata": {},
   "outputs": [],
   "source": [
    "from sklearn import metrics\n",
    "from sklearn.metrics import roc_curve,roc_auc_score, average_precision_score"
   ]
  },
  {
   "cell_type": "code",
   "execution_count": null,
   "metadata": {},
   "outputs": [],
   "source": [
    "print(metrics.roc_auc_score(y_train, results_skfold))"
   ]
  },
  {
   "cell_type": "code",
   "execution_count": null,
   "metadata": {},
   "outputs": [],
   "source": [
    "false_positive_rate, true_positive_rate, threshold = roc_curve(y_train, results_skfold)"
   ]
  },
  {
   "cell_type": "code",
   "execution_count": null,
   "metadata": {},
   "outputs": [],
   "source": [
    "roc_auc = roc_auc_score(y_train, results_skfold)\n",
    "print('ROC AUC Score:',roc_auc)"
   ]
  },
  {
   "cell_type": "code",
   "execution_count": null,
   "metadata": {},
   "outputs": [],
   "source": [
    "plt.plot(false_positive_rate, true_positive_rate, linewidth=5, label='AUC = %0.2f'%roc_auc)\n",
    "plt.plot([0,1],[0,1], linewidth=5)\n",
    "plt.legend(loc='upper right')\n",
    "plt.title('Receiver operating characteristic curve (ROC) for Logistic Regression')\n",
    "plt.ylabel('True Positive Rate')\n",
    "plt.xlabel('False Positive Rate')\n",
    "plt.show()"
   ]
  },
  {
   "cell_type": "markdown",
   "metadata": {},
   "source": [
    "On performing Logistic regression on imbalanced datset, the AUC under ROC obtained is 0.83"
   ]
  },
  {
   "cell_type": "markdown",
   "metadata": {},
   "source": [
    "Hyperparamter tuning for Logistic Regression"
   ]
  },
  {
   "cell_type": "code",
   "execution_count": 199,
   "metadata": {},
   "outputs": [],
   "source": [
    "from sklearn.model_selection import GridSearchCV"
   ]
  },
  {
   "cell_type": "code",
   "execution_count": 200,
   "metadata": {},
   "outputs": [
    {
     "name": "stdout",
     "output_type": "stream",
     "text": [
      "Best: 0.971899 using {'C': 1.0, 'penalty': 'l1'}\n"
     ]
    }
   ],
   "source": [
    "grid = {'penalty': ['l1', 'l2'], \n",
    "              'C': np.logspace(0, 4, 10)}\n",
    "model = LogisticRegression() \n",
    "cv = StratifiedKFold(n_splits=3, random_state=1)\n",
    "grid_search = GridSearchCV(estimator=model, param_grid=grid, n_jobs=-1, cv=cv, scoring='roc_auc',error_score=0) \n",
    "grid_result_imb_lr = grid_search.fit(X_train, y_train)\n",
    "# summarize results\n",
    "print(\"Best: %f using %s\" % (grid_result_imb_lr.best_score_, grid_result_imb_lr.best_params_))"
   ]
  },
  {
   "cell_type": "code",
   "execution_count": 201,
   "metadata": {},
   "outputs": [
    {
     "name": "stdout",
     "output_type": "stream",
     "text": [
      "ROC AUC Score: 0.8255060260392201\n"
     ]
    },
    {
     "data": {
      "image/png": "[encoded data removed]",
      "text/plain": [
       "<Figure size 432x288 with 1 Axes>"
      ]
     },
     "metadata": {
      "needs_background": "light"
     },
     "output_type": "display_data"
    }
   ],
   "source": [
    "skfold = StratifiedKFold(n_splits=3, random_state=100)\n",
    "model_skfold = LogisticRegression(C=1,penalty='l1')\n",
    "results_skfold = cross_val_predict(model_skfold, X_train, y_train, cv=skfold,n_jobs=-1)\n",
    "false_positive_rate, true_positive_rate, threshold = roc_curve(y_train, results_skfold)\n",
    "roc_auc = roc_auc_score(y_train, results_skfold)\n",
    "print('ROC AUC Score:',roc_auc)\n",
    "\n",
    "plt.plot(false_positive_rate, true_positive_rate, linewidth=5, label='AUC = %0.2f'%roc_auc)\n",
    "plt.plot([0,1],[0,1], linewidth=5)\n",
    "plt.legend(loc='upper right')\n",
    "plt.title('Receiver operating characteristic curve (ROC) for Logistic Regression(tuned)')\n",
    "plt.ylabel('True Positive Rate')\n",
    "plt.xlabel('False Positive Rate')\n",
    "plt.show()"
   ]
  },
  {
   "cell_type": "markdown",
   "metadata": {},
   "source": [
    "### Decision Tree Classifier"
   ]
  },
  {
   "cell_type": "code",
   "execution_count": null,
   "metadata": {},
   "outputs": [],
   "source": [
    "from sklearn.tree import DecisionTreeClassifier"
   ]
  },
  {
   "cell_type": "code",
   "execution_count": null,
   "metadata": {},
   "outputs": [],
   "source": [
    "skfold = StratifiedKFold(n_splits=3, random_state=100)\n",
    "model_skfold_dt = DecisionTreeClassifier()\n",
    "results_skfold_dt = cross_val_predict(model_skfold_dt, X_train, y_train, cv=skfold,n_jobs=-1)"
   ]
  },
  {
   "cell_type": "code",
   "execution_count": null,
   "metadata": {},
   "outputs": [],
   "source": [
    "false_positive_rate, true_positive_rate, threshold = roc_curve(y_train, results_skfold_dt)"
   ]
  },
  {
   "cell_type": "code",
   "execution_count": null,
   "metadata": {},
   "outputs": [],
   "source": [
    "roc_auc = roc_auc_score(y_train, results_skfold_dt)\n",
    "print('ROC AUC Score:',roc_auc)"
   ]
  },
  {
   "cell_type": "code",
   "execution_count": null,
   "metadata": {},
   "outputs": [],
   "source": [
    "plt.plot(false_positive_rate, true_positive_rate, linewidth=5, label='AUC = %0.2f'%roc_auc)\n",
    "plt.plot([0,1],[0,1], linewidth=5)\n",
    "plt.legend(loc='upper right')\n",
    "plt.title('Receiver operating characteristic curve (ROC) for Decision trees')\n",
    "plt.ylabel('True Positive Rate')\n",
    "plt.xlabel('False Positive Rate')\n",
    "plt.show()"
   ]
  },
  {
   "cell_type": "markdown",
   "metadata": {},
   "source": [
    "On performing Decision tree classification on imbalanced datset, the AUC under ROC obtained is 0.88"
   ]
  },
  {
   "cell_type": "markdown",
   "metadata": {},
   "source": [
    "#### Hyperparameter tuning for Decision trees"
   ]
  },
  {
   "cell_type": "code",
   "execution_count": null,
   "metadata": {},
   "outputs": [],
   "source": [
    "from sklearn.model_selection import GridSearchCV"
   ]
  },
  {
   "cell_type": "code",
   "execution_count": 202,
   "metadata": {},
   "outputs": [
    {
     "name": "stdout",
     "output_type": "stream",
     "text": [
      "Best: 0.921803 using {'criterion': 'entropy', 'max_depth': 3, 'max_features': 4, 'min_samples_leaf': 2}\n"
     ]
    }
   ],
   "source": [
    "grid = {'max_depth': [3, None], \n",
    "              'max_features': [4,8], \n",
    "              'min_samples_leaf': [2,4,8], \n",
    "              'criterion': ['gini', 'entropy']} \n",
    "   \n",
    "model = DecisionTreeClassifier() \n",
    "cv = StratifiedKFold(n_splits=3, random_state=1)\n",
    "grid_search = GridSearchCV(estimator=model, param_grid=grid, n_jobs=-1, cv=cv, scoring='roc_auc',error_score=0) \n",
    "grid_result_imb_dt = grid_search.fit(X_train, y_train)\n",
    "# summarize results\n",
    "print(\"Best: %f using %s\" % (grid_result_imb_dt.best_score_, grid_result_imb_dt.best_params_))"
   ]
  },
  {
   "cell_type": "markdown",
   "metadata": {},
   "source": [
    "Best paramtered of Decision tree:\n",
    "Best: 0.931598 using {'criterion': 'entropy', 'max_depth': 3, 'max_features': 8, 'min_samples_leaf': 4}"
   ]
  },
  {
   "cell_type": "markdown",
   "metadata": {},
   "source": [
    "#### Model Building using tuned factors (Decision Tree)"
   ]
  },
  {
   "cell_type": "code",
   "execution_count": null,
   "metadata": {},
   "outputs": [],
   "source": [
    "skfold = StratifiedKFold(n_splits=3, random_state=100)\n",
    "model_skfold_dt_tuned = DecisionTreeClassifier(criterion='entropy',max_depth=3,max_features=8,min_samples_leaf=4)\n",
    "results_skfold_dt_tuned = cross_val_predict(model_skfold_dt_tuned, X_train, y_train, cv=skfold,n_jobs=-1)"
   ]
  },
  {
   "cell_type": "code",
   "execution_count": null,
   "metadata": {},
   "outputs": [],
   "source": [
    "false_positive_rate, true_positive_rate, threshold = roc_curve(y_train, results_skfold_dt_tuned)"
   ]
  },
  {
   "cell_type": "code",
   "execution_count": null,
   "metadata": {},
   "outputs": [],
   "source": [
    "roc_auc = roc_auc_score(y_train, results_skfold_dt_tuned)\n",
    "print('ROC AUC Score:',roc_auc)"
   ]
  },
  {
   "cell_type": "code",
   "execution_count": null,
   "metadata": {},
   "outputs": [],
   "source": [
    "plt.plot(false_positive_rate, true_positive_rate, linewidth=5, label='AUC = %0.2f'%roc_auc)\n",
    "plt.plot([0,1],[0,1], linewidth=5)\n",
    "plt.legend(loc='upper right')\n",
    "plt.title('Receiver operating characteristic curve (ROC) for Decision trees with tuning')\n",
    "plt.ylabel('True Positive Rate')\n",
    "plt.xlabel('False Positive Rate')\n",
    "plt.show()"
   ]
  },
  {
   "cell_type": "markdown",
   "metadata": {},
   "source": [
    "On performing Decision tree classification on imbalanced dataset after hyper parameter tuning, the AUC under ROC obtained is 0.87, which is lower than default condition"
   ]
  },
  {
   "cell_type": "markdown",
   "metadata": {},
   "source": [
    "#### Random Forests"
   ]
  },
  {
   "cell_type": "code",
   "execution_count": null,
   "metadata": {},
   "outputs": [],
   "source": [
    "from sklearn.ensemble import RandomForestClassifier"
   ]
  },
  {
   "cell_type": "code",
   "execution_count": null,
   "metadata": {},
   "outputs": [],
   "source": [
    "skfold = StratifiedKFold(n_splits=3, random_state=100)\n",
    "model_skfold_rf = RandomForestClassifier(warm_start=False,n_jobs=-1)\n",
    "results_skfold_rf = cross_val_predict(model_skfold_rf, X_train, y_train, cv=skfold,n_jobs=-1)"
   ]
  },
  {
   "cell_type": "code",
   "execution_count": null,
   "metadata": {},
   "outputs": [],
   "source": [
    "false_positive_rate, true_positive_rate, threshold = roc_curve(y_train, results_skfold_rf)"
   ]
  },
  {
   "cell_type": "code",
   "execution_count": null,
   "metadata": {},
   "outputs": [],
   "source": [
    "roc_auc = roc_auc_score(y_train, results_skfold_rf)\n",
    "print('ROC AUC Score:',roc_auc)"
   ]
  },
  {
   "cell_type": "code",
   "execution_count": null,
   "metadata": {},
   "outputs": [],
   "source": [
    "plt.plot(false_positive_rate, true_positive_rate, linewidth=5, label='AUC = %0.2f'%roc_auc)\n",
    "plt.plot([0,1],[0,1], linewidth=5)\n",
    "plt.legend(loc='upper right')\n",
    "plt.title('Receiver operating characteristic curve (ROC) for Random forests')\n",
    "plt.ylabel('True Positive Rate')\n",
    "plt.xlabel('False Positive Rate')\n",
    "plt.show()"
   ]
  },
  {
   "cell_type": "markdown",
   "metadata": {},
   "source": [
    "On performing Random Forest classification on imbalanced datset, the AUC under ROC obtained is 0.895"
   ]
  },
  {
   "cell_type": "markdown",
   "metadata": {},
   "source": [
    "#### Hyperparameter tuning for Random forest"
   ]
  },
  {
   "cell_type": "code",
   "execution_count": null,
   "metadata": {},
   "outputs": [],
   "source": [
    "from sklearn.model_selection import GridSearchCV\n",
    "from sklearn.ensemble import RandomForestClassifier"
   ]
  },
  {
   "cell_type": "code",
   "execution_count": 203,
   "metadata": {},
   "outputs": [
    {
     "name": "stdout",
     "output_type": "stream",
     "text": [
      "Best: 0.978466 using {'criterion': 'entropy', 'max_depth': 8, 'max_features': 'auto', 'n_estimators': 100}\n"
     ]
    }
   ],
   "source": [
    "model = RandomForestClassifier(warm_start=True)\n",
    "n_estimators = [10, 30, 50, 100]\n",
    "max_features = ['auto','sqrt']\n",
    "max_depth= [4, 8] \n",
    "criterion=['gini', 'entropy']\n",
    "# define grid search\n",
    "grid = dict(n_estimators=n_estimators,max_features=max_features,max_depth=max_depth,criterion=criterion)\n",
    "cv = StratifiedKFold(n_splits=3, random_state=1)\n",
    "grid_search = GridSearchCV(estimator=model, param_grid=grid, n_jobs=-1, cv=cv, scoring='roc_auc',error_score=0)\n",
    "grid_result_imb_rf = grid_search.fit(X_train, y_train)\n",
    "# summarize results\n",
    "print(\"Best: %f using %s\" % (grid_result_imb_rf.best_score_, grid_result_imb_rf.best_params_))"
   ]
  },
  {
   "cell_type": "markdown",
   "metadata": {},
   "source": [
    "Best features of RF\n",
    "Best: 0.977854 using {'criterion': 'entropy', 'max_depth': 8, 'max_features': 'sqrt', 'n_estimators': 100}"
   ]
  },
  {
   "cell_type": "markdown",
   "metadata": {},
   "source": [
    "#### Model Building using tuned factors (Random Forest)"
   ]
  },
  {
   "cell_type": "code",
   "execution_count": null,
   "metadata": {},
   "outputs": [],
   "source": [
    "skfold = StratifiedKFold(n_splits=3, random_state=100)\n",
    "model_skfold_rf_tuned = RandomForestClassifier(criterion='entropy',max_depth=8,max_features='sqrt',n_estimators=100,warm_start=False,n_jobs=-1)\n",
    "results_skfold_rf_tuned = cross_val_predict(model_skfold_rf_tuned, X_train, y_train, cv=skfold,n_jobs=-1)"
   ]
  },
  {
   "cell_type": "code",
   "execution_count": null,
   "metadata": {},
   "outputs": [],
   "source": [
    "false_positive_rate, true_positive_rate, threshold = roc_curve(y_train, results_skfold_rf_tuned)"
   ]
  },
  {
   "cell_type": "code",
   "execution_count": null,
   "metadata": {},
   "outputs": [],
   "source": [
    "roc_auc = roc_auc_score(y_train, results_skfold_rf_tuned)\n",
    "print('ROC AUC Score:',roc_auc)"
   ]
  },
  {
   "cell_type": "code",
   "execution_count": null,
   "metadata": {},
   "outputs": [],
   "source": [
    "plt.plot(false_positive_rate, true_positive_rate, linewidth=5, label='AUC = %0.2f'%roc_auc)\n",
    "plt.plot([0,1],[0,1], linewidth=5)\n",
    "plt.legend(loc='upper right')\n",
    "plt.title('Receiver operating characteristic curve (ROC) for Random forests with tuning')\n",
    "plt.ylabel('True Positive Rate')\n",
    "plt.xlabel('False Positive Rate')\n",
    "plt.show()"
   ]
  },
  {
   "cell_type": "markdown",
   "metadata": {},
   "source": [
    "On performing Random Forest classification on imbalanced dataset after hyper parameter tuning, the AUC under ROC obtained is 0.90, which is greater than default case as well the highest so far compared to other models(Logistic regression and decision trees)"
   ]
  },
  {
   "cell_type": "markdown",
   "metadata": {},
   "source": [
    "### Balancing the train dataset"
   ]
  },
  {
   "cell_type": "markdown",
   "metadata": {},
   "source": [
    "So far modelling was done on imbalanced dataset, now models will be created on balanced dataset.\n",
    "The balancing techniques ie the oversampling techniques that will be used are SMOTE and ADASYN"
   ]
  },
  {
   "cell_type": "code",
   "execution_count": null,
   "metadata": {},
   "outputs": [],
   "source": [
    "from imblearn.over_sampling import SMOTE\n",
    "from imblearn.over_sampling import ADASYN\n",
    "from collections import Counter"
   ]
  },
  {
   "cell_type": "code",
   "execution_count": null,
   "metadata": {},
   "outputs": [],
   "source": [
    "smote = SMOTE(kind='regular',random_state=5)"
   ]
  },
  {
   "cell_type": "code",
   "execution_count": null,
   "metadata": {},
   "outputs": [],
   "source": [
    "X_train_smote, y_train_smote = smote.fit_sample(X_train,y_train)"
   ]
  },
  {
   "cell_type": "markdown",
   "metadata": {},
   "source": [
    "#### GridSearchCV for Logistic regression on balanced dataset"
   ]
  },
  {
   "cell_type": "code",
   "execution_count": null,
   "metadata": {},
   "outputs": [],
   "source": [
    "grid = {'penalty': ['l1', 'l2'], \n",
    "              'C': np.logspace(0, 4, 10)}\n",
    "model = LogisticRegression() \n",
    "cv = StratifiedKFold(n_splits=5, random_state=1)\n",
    "grid_search = GridSearchCV(estimator=model, param_grid=grid, n_jobs=-1, cv=cv, scoring='roc_auc',error_score=0) \n",
    "grid_result_bal_lr = grid_search.fit(X_train_smote, y_train_smote)\n",
    "# summarize results\n",
    "print(\"Best: %f using %s\" % (grid_result_bal_lr.best_score_, grid_result_bal_lr.best_params_))\n"
   ]
  },
  {
   "cell_type": "code",
   "execution_count": null,
   "metadata": {},
   "outputs": [],
   "source": [
    "skfold = StratifiedKFold(n_splits=5, random_state=100)\n",
    "model_skfold_lg_tuned_balanced = LogisticRegression(penalty='l2',C=7.74)\n",
    "results_skfold_lg_tuned_balanced = cross_val_predict(model_skfold_lg_tuned_balanced, X_train_smote, y_train_smote, cv=skfold,n_jobs=-1)"
   ]
  },
  {
   "cell_type": "code",
   "execution_count": null,
   "metadata": {},
   "outputs": [],
   "source": [
    "false_positive_rate, true_positive_rate, threshold = roc_curve(y_train_smote, results_skfold_lg_tuned_balanced)"
   ]
  },
  {
   "cell_type": "code",
   "execution_count": null,
   "metadata": {},
   "outputs": [],
   "source": [
    "roc_auc = roc_auc_score(y_train_smote, results_skfold_lg_tuned_balanced)\n",
    "print('ROC AUC Score:',roc_auc)"
   ]
  },
  {
   "cell_type": "code",
   "execution_count": null,
   "metadata": {},
   "outputs": [],
   "source": [
    "plt.plot(false_positive_rate, true_positive_rate, linewidth=5, label='AUC = %0.2f'%roc_auc)\n",
    "plt.plot([0,1],[0,1], linewidth=5)\n",
    "plt.legend(loc='upper right')\n",
    "plt.title('Receiver operating characteristic curve (ROC) for Logistic Regression(Balanced)')\n",
    "plt.ylabel('True Positive Rate')\n",
    "plt.xlabel('False Positive Rate')\n",
    "plt.show()"
   ]
  },
  {
   "cell_type": "markdown",
   "metadata": {},
   "source": [
    "0.97 is the AUC score obtained in balanced data set when Logistic regression is performed."
   ]
  },
  {
   "cell_type": "markdown",
   "metadata": {},
   "source": [
    "#### GridSearchCV for Decision tree classifier on balanced dataset"
   ]
  },
  {
   "cell_type": "code",
   "execution_count": null,
   "metadata": {},
   "outputs": [],
   "source": [
    "grid = {'max_depth': [3,6,9, None], \n",
    "              'max_features': [4,8], \n",
    "              'min_samples_leaf': [2,4,8], \n",
    "              'criterion': ['gini', 'entropy']} \n",
    "   \n",
    "model = DecisionTreeClassifier() \n",
    "cv = StratifiedKFold(n_splits=5, random_state=1)\n",
    "grid_search = GridSearchCV(estimator=model, param_grid=grid, n_jobs=-1, cv=cv, scoring='roc_auc',error_score=0) \n",
    "grid_result_bal_dt = grid_search.fit(X_train_smote, y_train_smote)\n",
    "# summarize results\n",
    "print(\"Best: %f using %s\" % (grid_result_bal_dt.best_score_, grid_result_bal_dt.best_params_))"
   ]
  },
  {
   "cell_type": "code",
   "execution_count": null,
   "metadata": {},
   "outputs": [],
   "source": [
    "skfold = StratifiedKFold(n_splits=5, random_state=100)\n",
    "model_skfold_dt_tuned_balanced = DecisionTreeClassifier(criterion='entropy',max_features=8,min_samples_leaf=8)\n",
    "results_skfold_dt_tuned_balanced = cross_val_predict(model_skfold_dt_tuned_balanced, X_train_smote, y_train_smote, cv=skfold,n_jobs=-1)"
   ]
  },
  {
   "cell_type": "code",
   "execution_count": null,
   "metadata": {},
   "outputs": [],
   "source": [
    "false_positive_rate, true_positive_rate, threshold = roc_curve(y_train_smote, results_skfold_dt_tuned_balanced)"
   ]
  },
  {
   "cell_type": "code",
   "execution_count": null,
   "metadata": {},
   "outputs": [],
   "source": [
    "roc_auc = roc_auc_score(y_train_smote, results_skfold_dt_tuned_balanced)\n",
    "print('ROC AUC Score:',roc_auc)"
   ]
  },
  {
   "cell_type": "code",
   "execution_count": null,
   "metadata": {},
   "outputs": [],
   "source": [
    "plt.plot(false_positive_rate, true_positive_rate, linewidth=5, label='AUC = %0.3f'%roc_auc)\n",
    "plt.plot([0,1],[0,1], linewidth=5)\n",
    "plt.legend(loc='upper right')\n",
    "plt.title('Receiver operating characteristic curve (ROC) for Decision tree classifier(Balanced)')\n",
    "plt.ylabel('True Positive Rate')\n",
    "plt.xlabel('False Positive Rate')\n",
    "plt.show()"
   ]
  },
  {
   "cell_type": "markdown",
   "metadata": {},
   "source": [
    "#### GridSearchCV for Random forest on balanced dataset"
   ]
  },
  {
   "cell_type": "code",
   "execution_count": null,
   "metadata": {},
   "outputs": [],
   "source": [
    "model = RandomForestClassifier(warm_start=True)\n",
    "n_estimators = [10, 30, 50, 100]\n",
    "max_features = ['auto','sqrt']\n",
    "max_depth= [4, 8] \n",
    "criterion=['gini', 'entropy']\n",
    "# define grid search\n",
    "grid = dict(n_estimators=n_estimators,max_features=max_features,max_depth=max_depth,criterion=criterion)\n",
    "cv = StratifiedKFold(n_splits=3, random_state=1)\n",
    "grid_search = GridSearchCV(estimator=model, param_grid=grid, n_jobs=-1, cv=cv, scoring='roc_auc',error_score=0)\n",
    "grid_result_bal_rf = grid_search.fit(X_train_smote, y_train_smote)\n",
    "# summarize results\n",
    "print(\"Best: %f using %s\" % (grid_result_bal_rf.best_score_, grid_result_bal_rf.best_params_))"
   ]
  },
  {
   "cell_type": "code",
   "execution_count": null,
   "metadata": {},
   "outputs": [],
   "source": [
    "skfold = StratifiedKFold(n_splits=5, random_state=100)\n",
    "model_skfold_rf_tuned_balanced = RandomForestClassifier(criterion='entropy',max_features='auto',max_depth=8,n_estimators=100)\n",
    "results_skfold_rf_tuned_balanced = cross_val_predict(model_skfold_rf_tuned_balanced, X_train_smote, y_train_smote, cv=skfold,n_jobs=-1)"
   ]
  },
  {
   "cell_type": "code",
   "execution_count": null,
   "metadata": {},
   "outputs": [],
   "source": [
    "false_positive_rate, true_positive_rate, threshold = roc_curve(y_train_smote, results_skfold_rf_tuned_balanced)"
   ]
  },
  {
   "cell_type": "code",
   "execution_count": null,
   "metadata": {},
   "outputs": [],
   "source": [
    "roc_auc = roc_auc_score(y_train_smote, results_skfold_rf_tuned_balanced)\n",
    "print('ROC AUC Score:',roc_auc)"
   ]
  },
  {
   "cell_type": "code",
   "execution_count": null,
   "metadata": {},
   "outputs": [],
   "source": [
    "plt.plot(false_positive_rate, true_positive_rate, linewidth=5, label='AUC = %0.3f'%roc_auc)\n",
    "plt.plot([0,1],[0,1], linewidth=5)\n",
    "plt.legend(loc='upper right')\n",
    "plt.title('Receiver operating characteristic curve (ROC) for Random Forest classifier(Balanced)')\n",
    "plt.ylabel('True Positive Rate')\n",
    "plt.xlabel('False Positive Rate')\n",
    "plt.show()"
   ]
  },
  {
   "cell_type": "markdown",
   "metadata": {},
   "source": [
    "## Prediction on test data after balancing using SMOTE"
   ]
  },
  {
   "cell_type": "markdown",
   "metadata": {},
   "source": [
    "#### Logistic Regression"
   ]
  },
  {
   "cell_type": "code",
   "execution_count": null,
   "metadata": {},
   "outputs": [],
   "source": [
    "y_pred_lr=grid_result_bal_lr.predict(X_test)"
   ]
  },
  {
   "cell_type": "code",
   "execution_count": null,
   "metadata": {},
   "outputs": [],
   "source": [
    "from sklearn import metrics\n",
    "fp_rate, tp_rate, thresholds = metrics.roc_curve(y_test, y_pred_lr)"
   ]
  },
  {
   "cell_type": "code",
   "execution_count": null,
   "metadata": {},
   "outputs": [],
   "source": [
    "metrics.auc(fp_rate, tp_rate)"
   ]
  },
  {
   "cell_type": "markdown",
   "metadata": {},
   "source": [
    "AUC for Logistic regression on test data = 0.747"
   ]
  },
  {
   "cell_type": "markdown",
   "metadata": {},
   "source": [
    "#### Decision tree"
   ]
  },
  {
   "cell_type": "code",
   "execution_count": null,
   "metadata": {},
   "outputs": [],
   "source": [
    "y_pred_dt=grid_result_bal_dt.predict(X_test)"
   ]
  },
  {
   "cell_type": "code",
   "execution_count": null,
   "metadata": {},
   "outputs": [],
   "source": [
    "fp_rate, tp_rate, thresholds = metrics.roc_curve(y_test, y_pred_dt)"
   ]
  },
  {
   "cell_type": "code",
   "execution_count": null,
   "metadata": {},
   "outputs": [],
   "source": [
    "metrics.auc(fp_rate, tp_rate)"
   ]
  },
  {
   "cell_type": "markdown",
   "metadata": {},
   "source": [
    "AUC for Decision trees on test data = 0.90"
   ]
  },
  {
   "cell_type": "markdown",
   "metadata": {},
   "source": [
    "#### Random Forest"
   ]
  },
  {
   "cell_type": "code",
   "execution_count": null,
   "metadata": {},
   "outputs": [],
   "source": [
    "y_pred_rf0=grid_result_bal_rf.predict(X_test)"
   ]
  },
  {
   "cell_type": "code",
   "execution_count": null,
   "metadata": {},
   "outputs": [],
   "source": [
    "fp_rate, tp_rate, thresholds = metrics.roc_curve(y_test, y_pred_rf0)"
   ]
  },
  {
   "cell_type": "code",
   "execution_count": null,
   "metadata": {},
   "outputs": [],
   "source": [
    "metrics.auc(fp_rate, tp_rate)"
   ]
  },
  {
   "cell_type": "markdown",
   "metadata": {},
   "source": [
    "AUC for Random forest on test data = 0.92"
   ]
  },
  {
   "cell_type": "code",
   "execution_count": null,
   "metadata": {},
   "outputs": [],
   "source": [
    "#Precision and Recall values for imbalanced test data\n",
    "from sklearn.metrics import classification_report,confusion_matrix,accuracy_score,roc_auc_score\n",
    "confusion = confusion_matrix(y_test,y_pred_rf0)\n",
    "TP = confusion[1,1] # true positive \n",
    "TN = confusion[0,0] # true negatives\n",
    "FP = confusion[0,1] # false positives\n",
    "FN = confusion[1,0] # false negatives\n",
    "precision = confusion[1,1]/(confusion[0,1]+confusion[1,1])\n",
    "recall = confusion[1,1]/(confusion[1,0]+confusion[1,1])\n",
    "print('precision for SMOTE balanced train data:',precision)\n",
    "print('Recall for SMOTE balanced train data:',recall)"
   ]
  },
  {
   "cell_type": "markdown",
   "metadata": {},
   "source": [
    "After balancing the dataset using SMOTE, the maximum AUC under ROC obtains is 0.92 for random forest model."
   ]
  },
  {
   "cell_type": "markdown",
   "metadata": {},
   "source": [
    "### Balancing the test dataset according to evaluation rubrics"
   ]
  },
  {
   "cell_type": "code",
   "execution_count": null,
   "metadata": {},
   "outputs": [],
   "source": [
    "X_test_smote, y_test_smote = smote.fit_sample(X_test,y_test)"
   ]
  },
  {
   "cell_type": "markdown",
   "metadata": {},
   "source": [
    "## Prediction on balanced test data"
   ]
  },
  {
   "cell_type": "markdown",
   "metadata": {},
   "source": [
    "#### Logistic Regression"
   ]
  },
  {
   "cell_type": "code",
   "execution_count": null,
   "metadata": {},
   "outputs": [],
   "source": [
    "y_pred_lr1=grid_result_bal_lr.predict(X_test_smote)\n",
    "from sklearn import metrics\n",
    "fp_rate, tp_rate, thresholds = metrics.roc_curve(y_test_smote, y_pred_lr1)\n",
    "metrics.auc(fp_rate, tp_rate)"
   ]
  },
  {
   "cell_type": "markdown",
   "metadata": {},
   "source": [
    "AUC for Logistic regression on test data = 0.8"
   ]
  },
  {
   "cell_type": "markdown",
   "metadata": {},
   "source": [
    "#### Decision Trees"
   ]
  },
  {
   "cell_type": "code",
   "execution_count": null,
   "metadata": {},
   "outputs": [],
   "source": [
    "y_pred_dt1=grid_result_bal_dt.predict(X_test_smote)\n",
    "fp_rate, tp_rate, thresholds = metrics.roc_curve(y_test_smote, y_pred_dt1)\n",
    "metrics.auc(fp_rate, tp_rate)"
   ]
  },
  {
   "cell_type": "markdown",
   "metadata": {},
   "source": [
    "AUC for Decision trees on test data = 0.95"
   ]
  },
  {
   "cell_type": "markdown",
   "metadata": {},
   "source": [
    "#### Random Forest"
   ]
  },
  {
   "cell_type": "code",
   "execution_count": null,
   "metadata": {},
   "outputs": [],
   "source": [
    "y_pred_rf1=grid_result_bal_rf.predict(X_test_smote)\n",
    "fp_rate, tp_rate, thresholds = metrics.roc_curve(y_test_smote, y_pred_rf1)\n",
    "metrics.auc(fp_rate, tp_rate)"
   ]
  },
  {
   "cell_type": "markdown",
   "metadata": {},
   "source": [
    "AUC for Random forest on test data = 0.98"
   ]
  },
  {
   "cell_type": "markdown",
   "metadata": {},
   "source": [
    "### Balancing the train dataset using ADASYN technique"
   ]
  },
  {
   "cell_type": "code",
   "execution_count": 169,
   "metadata": {},
   "outputs": [
    {
     "name": "stdout",
     "output_type": "stream",
     "text": [
      "(199364, 30)\n",
      "(397952, 30)\n"
     ]
    }
   ],
   "source": [
    "ad = ADASYN()\n",
    "X_ad, y_ad = ad.fit_sample(X_train, y_train)\n",
    " \n",
    "X_ad = pd.DataFrame(data = X_ad, columns = X_train.columns)\n",
    "\n",
    "print(X_train.shape)\n",
    "print(X_ad.shape)"
   ]
  },
  {
   "cell_type": "code",
   "execution_count": 170,
   "metadata": {},
   "outputs": [
    {
     "name": "stdout",
     "output_type": "stream",
     "text": [
      "0.8807472158587435\n"
     ]
    },
    {
     "data": {
      "image/png": "[encoded data removed]",
      "text/plain": [
       "<Figure size 432x288 with 1 Axes>"
      ]
     },
     "metadata": {
      "needs_background": "light"
     },
     "output_type": "display_data"
    }
   ],
   "source": [
    "#Modeling with Logistic Regression on ADASYN Balanced train dataset\n",
    "skfold = StratifiedKFold(n_splits=3, random_state=100)\n",
    "model_skfold = LogisticRegression()\n",
    "results_skfold = cross_val_predict(model_skfold, X_ad, y_ad, cv=skfold,n_jobs=-1)\n",
    "roc_auc = roc_auc_score(y_ad, results_skfold)\n",
    "print(metrics.roc_auc_score(y_ad, results_skfold))\n",
    "false_positive_rate, true_positive_rate, threshold = roc_curve(y_ad, results_skfold)\n",
    "plt.plot(false_positive_rate, true_positive_rate, linewidth=5, label='AUC = %0.2f'%roc_auc)\n",
    "plt.plot([0,1],[0,1], linewidth=5)\n",
    "plt.legend(loc='upper right')\n",
    "plt.title('Receiver operating characteristic curve (ROC) for Logistic Regression')\n",
    "plt.ylabel('True Positive Rate')\n",
    "plt.xlabel('False Positive Rate')\n",
    "plt.show()"
   ]
  },
  {
   "cell_type": "code",
   "execution_count": 171,
   "metadata": {},
   "outputs": [
    {
     "name": "stdout",
     "output_type": "stream",
     "text": [
      "ROC AUC Score: 0.9022638454920575\n"
     ]
    },
    {
     "data": {
      "image/png": "[encoded data removed]",
      "text/plain": [
       "<Figure size 432x288 with 1 Axes>"
      ]
     },
     "metadata": {
      "needs_background": "light"
     },
     "output_type": "display_data"
    }
   ],
   "source": [
    "#Modeling with Decision Trees on ADASYN balanced train dataset\n",
    "skfold = StratifiedKFold(n_splits=3, random_state=100)\n",
    "model_skfold_dt = DecisionTreeClassifier()\n",
    "results_skfold_dt = cross_val_predict(model_skfold_dt, X_ad, y_ad, cv=skfold,n_jobs=-1)\n",
    "false_positive_rate, true_positive_rate, threshold = roc_curve(y_ad, results_skfold_dt)\n",
    "roc_auc = roc_auc_score(y_ad, results_skfold_dt)\n",
    "print('ROC AUC Score:',roc_auc)\n",
    "plt.plot(false_positive_rate, true_positive_rate, linewidth=5, label='AUC = %0.2f'%roc_auc)\n",
    "plt.plot([0,1],[0,1], linewidth=5)\n",
    "plt.legend(loc='upper right')\n",
    "plt.title('Receiver operating characteristic curve (ROC) for Decision trees')\n",
    "plt.ylabel('True Positive Rate')\n",
    "plt.xlabel('False Positive Rate')\n",
    "plt.show()"
   ]
  },
  {
   "cell_type": "code",
   "execution_count": 172,
   "metadata": {},
   "outputs": [
    {
     "name": "stdout",
     "output_type": "stream",
     "text": [
      "ROC AUC Score: 0.9017732910504227\n"
     ]
    },
    {
     "data": {
      "image/png": "[encoded data removed]",
      "text/plain": [
       "<Figure size 432x288 with 1 Axes>"
      ]
     },
     "metadata": {
      "needs_background": "light"
     },
     "output_type": "display_data"
    }
   ],
   "source": [
    "#Modeling with Random Forests on ADASYN balanced train dataset\n",
    "skfold = StratifiedKFold(n_splits=3, random_state=100)\n",
    "model_skfold_rf = RandomForestClassifier(warm_start=False,n_jobs=-1)\n",
    "results_skfold_rf = cross_val_predict(model_skfold_rf, X_ad, y_ad, cv=skfold,n_jobs=-1)\n",
    "false_positive_rate, true_positive_rate, threshold = roc_curve(y_ad, results_skfold_rf)\n",
    "roc_auc = roc_auc_score(y_ad, results_skfold_rf)\n",
    "print('ROC AUC Score:',roc_auc)\n",
    "plt.plot(false_positive_rate, true_positive_rate, linewidth=5, label='AUC = %0.2f'%roc_auc)\n",
    "plt.plot([0,1],[0,1], linewidth=5)\n",
    "plt.legend(loc='upper right')\n",
    "plt.title('Receiver operating characteristic curve (ROC) for Random forests')\n",
    "plt.ylabel('True Positive Rate')\n",
    "plt.xlabel('False Positive Rate')\n",
    "plt.show()"
   ]
  },
  {
   "cell_type": "markdown",
   "metadata": {},
   "source": [
    "#### Hyperparameters tuning to see if the AUC increases after tuning for each models"
   ]
  },
  {
   "cell_type": "markdown",
   "metadata": {},
   "source": [
    "#### GridSearchCV for Logistic regression on ADASYN balanced train dataset"
   ]
  },
  {
   "cell_type": "code",
   "execution_count": 173,
   "metadata": {},
   "outputs": [
    {
     "name": "stdout",
     "output_type": "stream",
     "text": [
      "Best: 0.954573 using {'C': 10000.0, 'penalty': 'l1'}\n"
     ]
    }
   ],
   "source": [
    "grid = {'penalty': ['l1', 'l2'], \n",
    "              'C': np.logspace(0, 4, 10)}\n",
    "model = LogisticRegression() \n",
    "cv = StratifiedKFold(n_splits=5, random_state=1)\n",
    "grid_search = GridSearchCV(estimator=model, param_grid=grid, n_jobs=-1, cv=cv, scoring='roc_auc',error_score=0) \n",
    "grid_result_test_bal_lr_ada = grid_search.fit(X_ad, y_ad)\n",
    "# summarize results\n",
    "print(\"Best: %f using %s\" % (grid_result_test_bal_lr_ada.best_score_, grid_result_test_bal_lr_ada.best_params_))"
   ]
  },
  {
   "cell_type": "code",
   "execution_count": 174,
   "metadata": {},
   "outputs": [],
   "source": [
    "skfold_test = StratifiedKFold(n_splits=5, random_state=100)\n",
    "model_skfold_lg_tuned_balanced_test = LogisticRegression(penalty='l1',C=7.74)\n",
    "results_skfold_lg_tuned_balanced_test = cross_val_predict(model_skfold_lg_tuned_balanced_test, X_ad, y_ad, cv=skfold_test,n_jobs=-1)"
   ]
  },
  {
   "cell_type": "code",
   "execution_count": 175,
   "metadata": {},
   "outputs": [],
   "source": [
    "false_positive_rate, true_positive_rate, threshold = roc_curve(y_ad, results_skfold_lg_tuned_balanced_test)"
   ]
  },
  {
   "cell_type": "code",
   "execution_count": 176,
   "metadata": {},
   "outputs": [
    {
     "name": "stdout",
     "output_type": "stream",
     "text": [
      "ROC AUC Score: 0.9001452659725292\n"
     ]
    }
   ],
   "source": [
    "roc_auc = roc_auc_score(y_ad, results_skfold_lg_tuned_balanced_test)\n",
    "print('ROC AUC Score:',roc_auc)"
   ]
  },
  {
   "cell_type": "code",
   "execution_count": 177,
   "metadata": {},
   "outputs": [
    {
     "data": {
      "image/png": "[encoded data removed]",
      "text/plain": [
       "<Figure size 432x288 with 1 Axes>"
      ]
     },
     "metadata": {
      "needs_background": "light"
     },
     "output_type": "display_data"
    }
   ],
   "source": [
    "plt.plot(false_positive_rate, true_positive_rate, linewidth=5, label='AUC = %0.2f'%roc_auc)\n",
    "plt.plot([0,1],[0,1], linewidth=5)\n",
    "plt.legend(loc='upper right')\n",
    "plt.title('Receiver operating characteristic curve (ROC) for Logistic Regression(Balanced-ADASYN)')\n",
    "plt.ylabel('True Positive Rate')\n",
    "plt.xlabel('False Positive Rate')\n",
    "plt.show()"
   ]
  },
  {
   "cell_type": "markdown",
   "metadata": {},
   "source": [
    "#### GridSearchCV for Decision Tress on ADASYN balanced train dataset"
   ]
  },
  {
   "cell_type": "code",
   "execution_count": 178,
   "metadata": {},
   "outputs": [
    {
     "name": "stdout",
     "output_type": "stream",
     "text": [
      "Best: 0.930797 using {'criterion': 'entropy', 'max_depth': 9, 'max_features': 8, 'min_samples_leaf': 4}\n"
     ]
    }
   ],
   "source": [
    "grid = {'max_depth': [3,6,9, None], \n",
    "              'max_features': [4,8], \n",
    "              'min_samples_leaf': [2,4,8], \n",
    "              'criterion': ['gini', 'entropy']} \n",
    "   \n",
    "model = DecisionTreeClassifier() \n",
    "cv = StratifiedKFold(n_splits=5, random_state=1)\n",
    "grid_search = GridSearchCV(estimator=model, param_grid=grid, n_jobs=-1, cv=cv, scoring='roc_auc',error_score=0) \n",
    "grid_result_bal_dt_ada = grid_search.fit(X_ad, y_ad)\n",
    "# summarize results\n",
    "print(\"Best: %f using %s\" % (grid_result_bal_dt_ada.best_score_, grid_result_bal_dt_ada.best_params_))"
   ]
  },
  {
   "cell_type": "code",
   "execution_count": 179,
   "metadata": {},
   "outputs": [],
   "source": [
    "skfold = StratifiedKFold(n_splits=5, random_state=100)\n",
    "model_skfold_dt_tuned_balanced = DecisionTreeClassifier(criterion='gini',max_depth=9,max_features=8,min_samples_leaf=2)\n",
    "results_skfold_dt_tuned_balanced = cross_val_predict(model_skfold_dt_tuned_balanced, X_ad, y_ad, cv=skfold,n_jobs=-1)"
   ]
  },
  {
   "cell_type": "code",
   "execution_count": 180,
   "metadata": {},
   "outputs": [],
   "source": [
    "false_positive_rate, true_positive_rate, threshold = roc_curve(y_ad, results_skfold_dt_tuned_balanced)"
   ]
  },
  {
   "cell_type": "code",
   "execution_count": 181,
   "metadata": {},
   "outputs": [
    {
     "name": "stdout",
     "output_type": "stream",
     "text": [
      "ROC AUC Score: 0.8618629906674206\n"
     ]
    }
   ],
   "source": [
    "roc_auc = roc_auc_score(y_ad, results_skfold_dt_tuned_balanced)\n",
    "print('ROC AUC Score:',roc_auc)"
   ]
  },
  {
   "cell_type": "code",
   "execution_count": 182,
   "metadata": {},
   "outputs": [
    {
     "data": {
      "image/png": "[encoded data removed]",
      "text/plain": [
       "<Figure size 432x288 with 1 Axes>"
      ]
     },
     "metadata": {
      "needs_background": "light"
     },
     "output_type": "display_data"
    }
   ],
   "source": [
    "plt.plot(false_positive_rate, true_positive_rate, linewidth=5, label='AUC = %0.3f'%roc_auc)\n",
    "plt.plot([0,1],[0,1], linewidth=5)\n",
    "plt.legend(loc='upper right')\n",
    "plt.title('Receiver operating characteristic curve (ROC) for Decision tree classifier(Balanced-ADASYN)')\n",
    "plt.ylabel('True Positive Rate')\n",
    "plt.xlabel('False Positive Rate')\n",
    "plt.show()"
   ]
  },
  {
   "cell_type": "markdown",
   "metadata": {},
   "source": [
    "#### GridSearchCV for Random forest on ADASYN balanced train dataset"
   ]
  },
  {
   "cell_type": "code",
   "execution_count": 183,
   "metadata": {},
   "outputs": [
    {
     "name": "stdout",
     "output_type": "stream",
     "text": [
      "Best: 0.965587 using {'criterion': 'entropy', 'max_depth': 8, 'max_features': 'auto', 'n_estimators': 100}\n"
     ]
    }
   ],
   "source": [
    "model = RandomForestClassifier(warm_start=True)\n",
    "n_estimators = [10, 30, 50, 100]\n",
    "max_features = ['auto','sqrt']\n",
    "max_depth= [4, 8] \n",
    "criterion=['gini', 'entropy']\n",
    "# define grid search\n",
    "grid = dict(n_estimators=n_estimators,max_features=max_features,max_depth=max_depth,criterion=criterion)\n",
    "cv = StratifiedKFold(n_splits=3, random_state=1)\n",
    "grid_search = GridSearchCV(estimator=model, param_grid=grid, n_jobs=-1, cv=cv, scoring='roc_auc',error_score=0)\n",
    "grid_result_bal_rf_ada = grid_search.fit(X_ad, y_ad)\n",
    "# summarize results\n",
    "print(\"Best: %f using %s\" % (grid_result_bal_rf_ada.best_score_, grid_result_bal_rf_ada.best_params_))"
   ]
  },
  {
   "cell_type": "code",
   "execution_count": 184,
   "metadata": {},
   "outputs": [],
   "source": [
    "skfold = StratifiedKFold(n_splits=5, random_state=100)\n",
    "model_skfold_rf_tuned_balanced = RandomForestClassifier(criterion='entropy',max_features='auto',max_depth=8,n_estimators=100)\n",
    "results_skfold_rf_tuned_balanced = cross_val_predict(model_skfold_rf_tuned_balanced, X_ad, y_ad, cv=skfold,n_jobs=-1)"
   ]
  },
  {
   "cell_type": "code",
   "execution_count": 185,
   "metadata": {},
   "outputs": [
    {
     "name": "stdout",
     "output_type": "stream",
     "text": [
      "ROC AUC Score: 0.8835779007543736\n"
     ]
    }
   ],
   "source": [
    "false_positive_rate, true_positive_rate, threshold = roc_curve(y_ad, results_skfold_rf_tuned_balanced)\n",
    "roc_auc = roc_auc_score(y_ad, results_skfold_rf_tuned_balanced)\n",
    "print('ROC AUC Score:',roc_auc)"
   ]
  },
  {
   "cell_type": "code",
   "execution_count": 186,
   "metadata": {},
   "outputs": [
    {
     "data": {
      "image/png": "[encoded data removed]",
      "text/plain": [
       "<Figure size 432x288 with 1 Axes>"
      ]
     },
     "metadata": {
      "needs_background": "light"
     },
     "output_type": "display_data"
    }
   ],
   "source": [
    "plt.plot(false_positive_rate, true_positive_rate, linewidth=5, label='AUC = %0.3f'%roc_auc)\n",
    "plt.plot([0,1],[0,1], linewidth=5)\n",
    "plt.legend(loc='upper right')\n",
    "plt.title('Receiver operating characteristic curve (ROC) for Random Forest classifier(Balanced)')\n",
    "plt.ylabel('True Positive Rate')\n",
    "plt.xlabel('False Positive Rate')\n",
    "plt.show()"
   ]
  },
  {
   "cell_type": "markdown",
   "metadata": {},
   "source": [
    "AUC is 0.884 for Random Forest algorithm on ADASYN balanced train dataset"
   ]
  },
  {
   "cell_type": "markdown",
   "metadata": {},
   "source": [
    "### Prediction of ADASYN balanced test data"
   ]
  },
  {
   "cell_type": "code",
   "execution_count": 206,
   "metadata": {},
   "outputs": [
    {
     "name": "stdout",
     "output_type": "stream",
     "text": [
      "Logistic Regression AUC is: 0.7440554086532749\n",
      "Decision Trees AUC is: 0.8989214696847032\n",
      "Random Forest AUC is: 0.9390346381318888\n"
     ]
    }
   ],
   "source": [
    "#Logistic Regression\n",
    "y_pred_lr_ada=grid_result_test_bal_lr_ada.predict(X_test)\n",
    "from sklearn import metrics\n",
    "fp_rate, tp_rate, thresholds = metrics.roc_curve(y_test, y_pred_lr_ada)\n",
    "print('Logistic Regression AUC is:',metrics.auc(fp_rate, tp_rate))\n",
    "\n",
    "#Decision Tree\n",
    "y_pred_dt_ada=grid_result_bal_dt_ada.predict(X_test)\n",
    "fp_rate, tp_rate, thresholds = metrics.roc_curve(y_test, y_pred_dt_ada)\n",
    "print('Decision Trees AUC is:',metrics.auc(fp_rate, tp_rate))\n",
    "\n",
    "#Random Forest\n",
    "y_pred_rf_ada=grid_result_bal_rf_ada.predict(X_test)\n",
    "fp_rate, tp_rate, thresholds = metrics.roc_curve(y_test, y_pred_rf_ada)\n",
    "print('Random Forest AUC is:',metrics.auc(fp_rate, tp_rate))"
   ]
  },
  {
   "cell_type": "markdown",
   "metadata": {},
   "source": [
    "### Balancing of the test data using ADASYN Technique"
   ]
  },
  {
   "cell_type": "code",
   "execution_count": 192,
   "metadata": {},
   "outputs": [
    {
     "name": "stdout",
     "output_type": "stream",
     "text": [
      "(85443, 30)\n",
      "(170578, 30)\n"
     ]
    }
   ],
   "source": [
    "ad = ADASYN()\n",
    "X_ad_test, y_ad_test = ad.fit_sample(X_test, y_test)\n",
    " \n",
    "print(X_test.shape)\n",
    "print(X_ad_test.shape)"
   ]
  },
  {
   "cell_type": "markdown",
   "metadata": {},
   "source": [
    "### Predict against the ADASYN balanced test data"
   ]
  },
  {
   "cell_type": "code",
   "execution_count": 207,
   "metadata": {},
   "outputs": [
    {
     "name": "stdout",
     "output_type": "stream",
     "text": [
      "Logistic Regression AUC is: 0.7294462980006973\n",
      "Decision Trees AUC is: 0.8543240862829858\n",
      "Random Forest AUC is: 0.8741200817946574\n"
     ]
    }
   ],
   "source": [
    "#Logistic Regression\n",
    "y_pred_lr_ada1=grid_result_test_bal_lr_ada.predict(X_ad_test)\n",
    "from sklearn import metrics\n",
    "fp_rate, tp_rate, thresholds = metrics.roc_curve(y_ad_test, y_pred_lr_ada1)\n",
    "print('Logistic Regression AUC is:',metrics.auc(fp_rate, tp_rate))\n",
    "\n",
    "#Decision Tree\n",
    "y_pred_dt_ada1=grid_result_bal_dt_ada.predict(X_ad_test)\n",
    "fp_rate, tp_rate, thresholds = metrics.roc_curve(y_ad_test, y_pred_dt_ada1)\n",
    "print('Decision Trees AUC is:',metrics.auc(fp_rate, tp_rate))\n",
    "\n",
    "#Random Forest\n",
    "y_pred_rf_ada1=grid_result_bal_rf_ada.predict(X_ad_test)\n",
    "fp_rate, tp_rate, thresholds = metrics.roc_curve(y_ad_test, y_pred_rf_ada1)\n",
    "print('Random Forest AUC is:',metrics.auc(fp_rate, tp_rate))"
   ]
  },
  {
   "cell_type": "markdown",
   "metadata": {},
   "source": [
    "### Prediction on imbalanced dataset"
   ]
  },
  {
   "cell_type": "code",
   "execution_count": 208,
   "metadata": {},
   "outputs": [
    {
     "name": "stdout",
     "output_type": "stream",
     "text": [
      "Logistic Regression AUC is: 0.7440554086532749\n",
      "Decision Trees AUC is: 0.8989214696847032\n",
      "Random Forest AUC is: 0.9390346381318888\n"
     ]
    }
   ],
   "source": [
    "#Logistic Regression\n",
    "y_pred_lr_imb=grid_result_test_bal_lr_ada.predict(X_test)\n",
    "from sklearn import metrics\n",
    "fp_rate, tp_rate, thresholds = metrics.roc_curve(y_test, y_pred_lr_imb)\n",
    "print('Logistic Regression AUC is:',metrics.auc(fp_rate, tp_rate))\n",
    "\n",
    "#Decision Tree\n",
    "y_pred_dt_imb=grid_result_bal_dt_ada.predict(X_test)\n",
    "fp_rate, tp_rate, thresholds = metrics.roc_curve(y_test, y_pred_dt_imb)\n",
    "print('Decision Trees AUC is:',metrics.auc(fp_rate, tp_rate))\n",
    "\n",
    "#Random Forest\n",
    "y_pred_rf_imb=grid_result_bal_rf_ada.predict(X_test)\n",
    "fp_rate, tp_rate, thresholds = metrics.roc_curve(y_test, y_pred_rf_imb)\n",
    "print('Random Forest AUC is:',metrics.auc(fp_rate, tp_rate))"
   ]
  },
  {
   "cell_type": "markdown",
   "metadata": {},
   "source": [
    "### Precision and recall on Random forest for SMOTE and ADASYN"
   ]
  },
  {
   "cell_type": "code",
   "execution_count": 204,
   "metadata": {},
   "outputs": [
    {
     "name": "stdout",
     "output_type": "stream",
     "text": [
      "Precision for ADASYN balanced test data: 0.9821822578207647\n",
      "Recall for ADASYN balanced test data: 0.762062779217429\n"
     ]
    }
   ],
   "source": [
    "#Precision and Recall values for all the datasets\n",
    "from sklearn.metrics import classification_report,confusion_matrix,accuracy_score,roc_auc_score\n",
    "#Precision and Recall values for ADASYN balanced test data on Random Forest\n",
    "confusion = confusion_matrix(y_ad_test,y_pred_rf_ada1)\n",
    "TP = confusion[1,1] # true positive \n",
    "TN = confusion[0,0] # true negatives\n",
    "FP = confusion[0,1] # false positives\n",
    "FN = confusion[1,0] # false negatives\n",
    "precision = confusion[1,1]/(confusion[0,1]+confusion[1,1])\n",
    "recall = confusion[1,1]/(confusion[1,0]+confusion[1,1])\n",
    "print('Precision for ADASYN balanced test data:',precision)\n",
    "print('Recall for ADASYN balanced test data:',recall)"
   ]
  },
  {
   "cell_type": "code",
   "execution_count": 196,
   "metadata": {},
   "outputs": [
    {
     "name": "stdout",
     "output_type": "stream",
     "text": [
      "precision for SMOTE balanced train data: 0.9884161677707323\n",
      "Recall for SMOTE balanced train data: 0.9813705375461633\n"
     ]
    }
   ],
   "source": [
    "#Precision and Recall values for SMOTE balanced test data\n",
    "from sklearn.metrics import classification_report,confusion_matrix,accuracy_score,roc_auc_score\n",
    "confusion = confusion_matrix(y_test_smote,y_pred_rf1)\n",
    "TP = confusion[1,1] # true positive \n",
    "TN = confusion[0,0] # true negatives\n",
    "FP = confusion[0,1] # false positives\n",
    "FN = confusion[1,0] # false negatives\n",
    "precision = confusion[1,1]/(confusion[0,1]+confusion[1,1])\n",
    "recall = confusion[1,1]/(confusion[1,0]+confusion[1,1])\n",
    "print('Precision for SMOTE balanced train data:',precision)\n",
    "print('Recall for SMOTE balanced train data:',recall)"
   ]
  },
  {
   "cell_type": "markdown",
   "metadata": {},
   "source": [
    "### Classification of values for each datasets\n",
    "AUC under ROC obtained on training data are as follows for three different models.\n",
    "\n",
    "| Model | Imbalanced data Hypertuned model | SMOTE Balanced train data | ADASYN Balanced train data | \n",
    "| --- | --- | --- | --- | \n",
    "| Logistic Regression AUC | 0.83 | 0.97 | 0.90 |  \n",
    "| Decision Trees AUC | 0.87 | 0.99 | 0.86 | \n",
    "| Random Forest AUC | 0.90 | 0.98 | 0.88 | "
   ]
  },
  {
   "cell_type": "markdown",
   "metadata": {},
   "source": [
    "### Predictions and metrics towards test data\n",
    "\n",
    "| Model | Predicted values of imbalanced dataset |Predicted values on SMOTE balanced dataset(without balancing test train)| Predicted values on SMOTE balanced dataset(with balancing test train) | Predicted values on ADASYN balanced dataset(without balancing test train) |Predicted values on ADASYN balanced dataset(with balancing test train)|\n",
    "| --- | --- | --- | --- | ---|--- |\n",
    "| Logistic Regression AUC | 0.74 | 0.74 | 0.8 | 0.74 | 0.72 |\n",
    "| Decision Trees AUC | 0.89 | 0.90 | 0.95 | 0.89 | 0.85 |\n",
    "| Random Forest AUC | 0.93 | 0.92 | 0.98 | 0.93 | 0.87 |\n"
   ]
  },
  {
   "cell_type": "markdown",
   "metadata": {},
   "source": [
    "### Conclusion"
   ]
  },
  {
   "cell_type": "markdown",
   "metadata": {},
   "source": [
    "-  The above meterics are tabulated which gives the area under the ROC curve for each model consider i.e., Logistic regression, decision trees and random forests\n",
    "- Initially these models are applied to imbalanced dataset which gave 90% on ROC-AUC for random forests. From this an insight could be obtained that Random forest performs better even if the data is imbalanced\n",
    "- Then data is balanced using 2 techniques called SMOTE and ADASYN\n",
    "- The test data is predicted against several scenarios such as imbalanced data, SMOTE balanced data and ADASYN imbalanced data. Table 2 given above, gives ROC-AUC for all these scenarios\n",
    "- In general test data need not be balanced , but based on the evaluation rubrics, results were obtained for both balanced and unbalanced test data \n",
    "- From the above metrics Random forest performs well on both balanced and imbalanced data set.\n",
    "- Specifically, even when test data is not balanced, the predicted ROC-AOC obtained is 92 % on SMOTE balanced (train) random forest model whereas ADASYN balanced random forest model gave 93 % ROC-AUC score.\n",
    "- When test data is also balanced, SMOTE on random forest gave the maximum ROC-AUC of 98 % compared to other models thus concluding that SMOTE balanced Random forest model outperformed other models taken into consideration for this project."
   ]
  }
 ],
 "metadata": {
  "kernelspec": {
   "display_name": "Python3",
   "language": "python",
   "name": "python3"
  },
  "language_info": {
   "codemirror_mode": {
    "name": "ipython",
    "version": 3
   },
   "file_extension": ".py",
   "mimetype": "text/x-python",
   "name": "python",
   "nbconvert_exporter": "python",
   "pygments_lexer": "ipython3",
   "version": "3.7.3"
  }
 },
 "nbformat": 4,
 "nbformat_minor": 2
}
